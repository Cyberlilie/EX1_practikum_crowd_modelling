{
 "cells": [
  {
   "cell_type": "markdown",
   "metadata": {},
   "source": [
    "Imports and functions from task 1 & 2 to be used again in this task. "
   ]
  },
  {
   "cell_type": "code",
   "execution_count": null,
   "metadata": {},
   "outputs": [],
   "source": [
    "import numpy as np\n",
    "import matplotlib.pyplot as plt\n",
    "from scipy.optimize import least_squares as nls\n",
    "\n",
    "def Read_file(filename):\n",
    "    data = []\n",
    "    filename = filename + \".txt\"\n",
    "    file = open(filename, \"r\")\n",
    "    for coor in file:\n",
    "        data.append(coor.split())\n",
    "    data = np.array(data, dtype='float')\n",
    "    x = data[:,0]\n",
    "    y = data[:,1]\n",
    "    return x, y\n",
    "\n",
    "def Least_squares(x, y):\n",
    "    A = np.vstack([x, np.ones(len(x))]).T\n",
    "    m, c = np.linalg.lstsq(A, y, rcond=None)[0]\n",
    "    plt.figure(figsize=(16,14))\n",
    "    plt.plot(x, y, 'o', label=\"Original Data\", markersize=2)\n",
    "    plt.plot(x, m*x + c, \"r\", label=\"Fitted Line\")\n",
    "    plt.legend()\n",
    "    plt.show()"
   ]
  },
  {
   "cell_type": "markdown",
   "metadata": {},
   "source": [
    "loading the data"
   ]
  },
  {
   "cell_type": "code",
   "execution_count": null,
   "metadata": {},
   "outputs": [],
   "source": [
    "x0 = np.array(Read_file(\"nonlinear_vectorfield_data_x0\"))\n",
    "x1 = np.array(Read_file(\"nonlinear_vectorfield_data_x1\"))\n",
    "plt.figure(figsize=(16,14))\n",
    "plt.plot(x0[0,:], x0[1,:], 'o', label=\"x0\", color=\"blue\")\n",
    "plt.plot(x1[0,:], x1[1,:], 'o', label=\"x1\", color=\"yellow\")\n",
    "plt.legend()\n",
    "plt.show()"
   ]
  },
  {
   "cell_type": "markdown",
   "metadata": {},
   "source": [
    "## 1) Estimate the vector field with a linear operator. "
   ]
  },
  {
   "cell_type": "code",
   "execution_count": null,
   "metadata": {},
   "outputs": [],
   "source": [
    "dt = 0.1\n",
    "dphidt = (x1 - x0)/dt\n",
    "\n",
    "coef = np.linalg.lstsq(dphidt, x0, rcond=None)\n",
    "A = coef[0]\n",
    "print('linear operator: A = ')\n",
    "print(A)"
   ]
  },
  {
   "cell_type": "code",
   "execution_count": null,
   "metadata": {},
   "outputs": [],
   "source": [
    "#estimating x1\n",
    "x1_hat = x0.dot(A)\n",
    "\n",
    "plt.figure(figsize=(16,14))\n",
    "plt.title(r'$x_1$ and $\\hat{x_1}$ comparative plots')\n",
    "plt.plot(x1[0,:], x1[1,:], 'o', label=r\"$x_1$\", color=\"blue\")\n",
    "plt.plot(x1_hat[0,:], x1_hat[1,:], 'o', label=r\"$\\hat{x}_1$\", color=\"red\")\n",
    "plt.legend()\n",
    "plt.show()"
   ]
  },
  {
   "cell_type": "code",
   "execution_count": null,
   "metadata": {},
   "outputs": [],
   "source": [
    "#computation of the mean square error\n",
    "\n",
    "def MSE(y,y_pred): \n",
    "    mse = 0\n",
    "    for k in range(y.shape[0]) : \n",
    "        error = np.linalg.norm(y-y_pred)**(2)\n",
    "        mse += error\n",
    "    return mse\n",
    "\n",
    "\n",
    "mse = MSE(x1,x1_hat)\n",
    "print('The mean square error is : ' + str(mse))"
   ]
  },
  {
   "cell_type": "markdown",
   "metadata": {},
   "source": [
    "## 2) Radial basis function approximation"
   ]
  },
  {
   "cell_type": "code",
   "execution_count": null,
   "metadata": {},
   "outputs": [],
   "source": [
    "def phi(C,x) : \n",
    "    ''' \n",
    "    The radial function, as the one see in class id est : \n",
    "    exp(-||xl - x||**(2)/eps**(2))\n",
    "    L is the number of coordinates for the vector C, we then choose the x_l, centers of basis functions distributed between\n",
    "    the maximum and the minimum of the values of x. \n",
    "    \n",
    "    '''\n",
    "    eps = 0.1\n",
    "    L = len(C)\n",
    "        \n",
    "    x_max = np.amax(x)\n",
    "    x_min = np.amin(x)\n",
    "        \n",
    "        \n",
    "    x_ls =  np.linspace(x_min,x_max,num = L)\n",
    "        \n",
    "        \n",
    "        \n",
    "    f_hat = np.zeros(x.shape)\n",
    "    for l in range(L) : \n",
    "        phi_l = np.exp(-np.power(x_ls[l]*np.ones(x.shape)-x,2)/np.linalg.norm(eps)**(2))\n",
    "        f_hat += phi_l*C[l]\n",
    "           \n",
    "        \n",
    "    return f_hat\n",
    "\n",
    "\n",
    "def fun(C,x,y) :\n",
    "    '''The function we want to minimise with the least squares minimisation'''\n",
    "    return phi(C,x) - y\n",
    "    \n",
    "    \n",
    "\n",
    "    \n",
    "    \n",
    "    \n",
    "def radial_function_solving(x0,x1,dt,L) : \n",
    "    '''Given the data points x0 and x1, the time difference and L, the \n",
    "    number of variables in the radial function we want, we compute the prediction of \n",
    "    the next coordinates'''\n",
    "    \n",
    "    dphidt = (x1 - x0)/dt # the speed\n",
    "    \n",
    "    x_hat = np.zeros(x0.shape)\n",
    "    Cs = []\n",
    "    for i in range(x0.shape[0]) :\n",
    "        C0 = np.ones(L) #initial guess of c-coefficients\n",
    "        res_lsq = nls(fun, C0, args=(x0[i,:], dphidt[i,:]))\n",
    "        C = res_lsq.x\n",
    "\n",
    "        f_hat = phi(C,x0[i,:])\n",
    "        x_hat[i,:] = f_hat*dt + x0[i,:]\n",
    "        Cs.append(C)\n",
    "    \n",
    "    return x_hat,Cs\n"
   ]
  },
  {
   "cell_type": "code",
   "execution_count": null,
   "metadata": {},
   "outputs": [],
   "source": [
    "dt = 0.1\n",
    "L = 500\n",
    "x_hat,Cs = radial_function_solving(x0,x1,dt,L)\n",
    "mse = MSE(x1,x_hat)\n",
    "print('The mean square error is : ' + str(mse))"
   ]
  },
  {
   "cell_type": "code",
   "execution_count": null,
   "metadata": {},
   "outputs": [],
   "source": [
    "plt.figure(figsize=(16,14))\n",
    "plt.title(r'$x_1$ and $\\hat{x_1}$ comparative plots')\n",
    "plt.plot(x1[0,:], x1[1,:], 'o', label=r\"$x_1$\", color=\"blue\")\n",
    "plt.plot(x_hat[0,:], x_hat[1,:], 'o', label=r\"$\\hat{x}_1$\", color=\"red\")\n",
    "plt.legend()\n",
    "plt.show()"
   ]
  },
  {
   "cell_type": "markdown",
   "metadata": {},
   "source": [
    "## 3) Approximated vector field"
   ]
  },
  {
   "cell_type": "markdown",
   "metadata": {},
   "source": [
    "a) ploting the approximated vector field"
   ]
  },
  {
   "cell_type": "code",
   "execution_count": null,
   "metadata": {},
   "outputs": [],
   "source": [
    "v = (x_hat - x0)/dt\n",
    "dx = v[:,0]\n",
    "dy = v[:,1]\n",
    "\n",
    "plt.figure(figsize=(16,14))\n",
    "plt.quiver(x0[:,0], x0[:,1], dx, dy)\n",
    "plt.show()"
   ]
  },
  {
   "cell_type": "markdown",
   "metadata": {},
   "source": [
    "b) solving the system for a longer time"
   ]
  },
  {
   "cell_type": "code",
   "execution_count": null,
   "metadata": {},
   "outputs": [],
   "source": [
    "def long_time_solving(x0,x1,L,dt=0.1,num_iter = 20) : \n",
    "    states = [x0]\n",
    "    for i in range(num_iter) : \n",
    "        x_hat = radial_function_solving(x0,x1,dt,L)\n",
    "        states.append(x_hat)\n",
    "        \n",
    "        v = (x_hat - x0)/dt\n",
    "        x0 = x_hat\n",
    "        x1 = v*dt + x0\n",
    "        \n",
    "    return states\n",
    "        "
   ]
  },
  {
   "cell_type": "code",
   "execution_count": null,
   "metadata": {},
   "outputs": [],
   "source": [
    "states = long_time_solving(x0,x1,L,dt=0.1,num_iter = 20)\n"
   ]
  }
 ],
 "metadata": {
  "kernelspec": {
   "display_name": "Python 3",
   "language": "python",
   "name": "python3"
  },
  "language_info": {
   "codemirror_mode": {
    "name": "ipython",
    "version": 3
   },
   "file_extension": ".py",
   "mimetype": "text/x-python",
   "name": "python",
   "nbconvert_exporter": "python",
   "pygments_lexer": "ipython3",
   "version": "3.7.3"
  }
 },
 "nbformat": 4,
 "nbformat_minor": 2
}
